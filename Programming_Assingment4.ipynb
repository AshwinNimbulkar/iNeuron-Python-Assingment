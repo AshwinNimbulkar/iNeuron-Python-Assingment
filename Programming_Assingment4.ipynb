{
 "cells": [
  {
   "cell_type": "markdown",
   "metadata": {},
   "source": [
    "#### 1. Write a Python Program to Find the Factorial of a Number?"
   ]
  },
  {
   "cell_type": "code",
   "execution_count": 22,
   "metadata": {},
   "outputs": [
    {
     "name": "stdout",
     "output_type": "stream",
     "text": [
      "Enter value 5\n",
      "120\n"
     ]
    }
   ],
   "source": [
    "n= int(input('Enter value '))\n",
    "factorial = 1\n",
    "if n >0:\n",
    "    for i in range(1,n+1):\n",
    "        factorial = factorial*i\n",
    "\n",
    "    print(factorial)\n",
    "elif n<0 :\n",
    "    print('No factorial')"
   ]
  },
  {
   "cell_type": "markdown",
   "metadata": {},
   "source": [
    "#### 2. Write a Python Program to Display the multiplication Table?"
   ]
  },
  {
   "cell_type": "code",
   "execution_count": null,
   "metadata": {},
   "outputs": [],
   "source": [
    "n = int(input('Enter number '))\n",
    "for i in range(1,11):\n",
    "    print(i*n)"
   ]
  },
  {
   "cell_type": "markdown",
   "metadata": {},
   "source": [
    "#### 3. Write a Python Program to Print the Fibonacci sequence?"
   ]
  },
  {
   "cell_type": "code",
   "execution_count": 43,
   "metadata": {},
   "outputs": [
    {
     "name": "stdout",
     "output_type": "stream",
     "text": [
      "610\n"
     ]
    }
   ],
   "source": [
    "def fib(n):\n",
    "    a=0\n",
    "    b=1\n",
    "    if n<0:\n",
    "        print('Incorrect')\n",
    "    elif n ==1:\n",
    "        return b\n",
    "    elif n == 0 :\n",
    "        return a\n",
    "    else:\n",
    "        for i in range(2,n+1):\n",
    "            c= a + b\n",
    "            a = b\n",
    "            b = c\n",
    "        return c\n",
    "    \n",
    "    \n",
    "res = fib(15)\n",
    "print(res)"
   ]
  },
  {
   "cell_type": "markdown",
   "metadata": {},
   "source": [
    "#### 4. Write a Python Program to Check Armstrong Number?"
   ]
  },
  {
   "cell_type": "code",
   "execution_count": null,
   "metadata": {},
   "outputs": [],
   "source": [
    "n = int(input('Enter number'))\n",
    "sum = 0\n",
    "temp = n\n",
    "while n > 0 :\n",
    "    r = n % 10\n",
    "    sum += r*r*r\n",
    "    n//=10\n",
    "if temp == sum:\n",
    "    print('It is Armstrong number')\n",
    "else:\n",
    "    print('Not')"
   ]
  },
  {
   "cell_type": "markdown",
   "metadata": {},
   "source": [
    "#### 5. Write a Python Program to Find Armstrong Number in an Interval?"
   ]
  },
  {
   "cell_type": "code",
   "execution_count": 1,
   "metadata": {},
   "outputs": [
    {
     "name": "stdout",
     "output_type": "stream",
     "text": [
      "Enter Value 1000\n",
      "1\n",
      "64\n",
      "125\n",
      "153\n",
      "216\n",
      "370\n",
      "371\n",
      "407\n",
      "729\n"
     ]
    }
   ],
   "source": [
    "n = int(input('Enter Value '))\n",
    "\n",
    "for i in range(0,n):\n",
    "    temp = i \n",
    "    sum = 0 \n",
    "    while temp > 0 :\n",
    "        r = temp%10\n",
    "        sum = sum + r*r*r\n",
    "        temp //= 10\n",
    "        if  i == sum:\n",
    "            print(i)"
   ]
  },
  {
   "cell_type": "markdown",
   "metadata": {},
   "source": [
    "#### 6. Write a Python Program to Find the Sum of Natural Numbers?"
   ]
  },
  {
   "cell_type": "code",
   "execution_count": 42,
   "metadata": {},
   "outputs": [
    {
     "name": "stdout",
     "output_type": "stream",
     "text": [
      "10\n",
      "Sum of natural number is 55\n"
     ]
    }
   ],
   "source": [
    "n= int(input())\n",
    "temp =0\n",
    "\n",
    "for i in range(n+1):\n",
    "    temp +=i\n",
    "print('Sum of natural number is',temp)"
   ]
  },
  {
   "cell_type": "code",
   "execution_count": null,
   "metadata": {},
   "outputs": [],
   "source": []
  },
  {
   "cell_type": "code",
   "execution_count": null,
   "metadata": {},
   "outputs": [],
   "source": []
  }
 ],
 "metadata": {
  "kernelspec": {
   "display_name": "Python 3",
   "language": "python",
   "name": "python3"
  },
  "language_info": {
   "codemirror_mode": {
    "name": "ipython",
    "version": 3
   },
   "file_extension": ".py",
   "mimetype": "text/x-python",
   "name": "python",
   "nbconvert_exporter": "python",
   "pygments_lexer": "ipython3",
   "version": "3.7.4"
  }
 },
 "nbformat": 4,
 "nbformat_minor": 2
}
