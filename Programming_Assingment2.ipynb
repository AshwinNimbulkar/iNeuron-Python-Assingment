{
 "cells": [
  {
   "cell_type": "markdown",
   "metadata": {},
   "source": [
    "#### 1. Write a Python program to convert kilometers to miles?"
   ]
  },
  {
   "cell_type": "code",
   "execution_count": 1,
   "metadata": {},
   "outputs": [
    {
     "name": "stdout",
     "output_type": "stream",
     "text": [
      "Enter kilometer32\n",
      "km to miles is  19.88384\n"
     ]
    }
   ],
   "source": [
    "km = float(input('Enter kilometer'))\n",
    "\n",
    "miles = km * 0.62137\n",
    "print('km to miles is ',miles)"
   ]
  },
  {
   "cell_type": "markdown",
   "metadata": {},
   "source": [
    "#### 2. Write a Python program to convert Celsius to Fahrenheit?"
   ]
  },
  {
   "cell_type": "code",
   "execution_count": 3,
   "metadata": {},
   "outputs": [
    {
     "name": "stdout",
     "output_type": "stream",
     "text": [
      "Enter degree celsius53\n",
      "Conversion from celsius to Fahrenheit  127.4\n"
     ]
    }
   ],
   "source": [
    "celsius = float(input('Enter degree celsius'))\n",
    "\n",
    "Fahrenheit = (celsius * 1.8) + 32\n",
    "print('Conversion from celsius to Fahrenheit ',Fahrenheit)"
   ]
  },
  {
   "cell_type": "markdown",
   "metadata": {},
   "source": [
    "#### 3. Write a Python program to display calendar?"
   ]
  },
  {
   "cell_type": "code",
   "execution_count": 9,
   "metadata": {},
   "outputs": [
    {
     "name": "stdout",
     "output_type": "stream",
     "text": [
      "Enter Month1\n",
      "Enter year2050\n",
      "    January 2050\n",
      "Mo Tu We Th Fr Sa Su\n",
      "                1  2\n",
      " 3  4  5  6  7  8  9\n",
      "10 11 12 13 14 15 16\n",
      "17 18 19 20 21 22 23\n",
      "24 25 26 27 28 29 30\n",
      "31\n",
      "\n"
     ]
    }
   ],
   "source": [
    "import calendar\n",
    "\n",
    "mm = int(input('Enter Month'))\n",
    "yy = int(input('Enter year'))\n",
    "\n",
    "print(calendar.month(yy,mm))"
   ]
  },
  {
   "cell_type": "markdown",
   "metadata": {},
   "source": [
    "#### 4. Write a Python program to solve quadratic equation?"
   ]
  },
  {
   "cell_type": "code",
   "execution_count": 3,
   "metadata": {},
   "outputs": [
    {
     "name": "stdout",
     "output_type": "stream",
     "text": [
      "Enter value12\n",
      "Enter Value12\n",
      "Enter value31\n",
      "The roots are\n",
      "(-0.5-1.5275252316519465j)\n",
      "(-0.5+1.5275252316519465j)\n"
     ]
    }
   ],
   "source": [
    "import cmath \n",
    "\n",
    "a = float(input('Enter value'))\n",
    "b = float(input('Enter Value'))\n",
    "c = float(input('Enter value'))\n",
    "\n",
    "quadratic_eq = b**2 -4*a*c\n",
    "\n",
    "res1= (-b-cmath.sqrt())/(2 * a)\n",
    "\n",
    "res2 = (-b + cmath.sqrt())/(2 * a)\n",
    "  \n",
    "print('The roots are')\n",
    "print(res1)\n",
    "print(res2)"
   ]
  },
  {
   "cell_type": "markdown",
   "metadata": {},
   "source": [
    "#### 5. Write a Python program to swap two variables without temp variable?"
   ]
  },
  {
   "cell_type": "code",
   "execution_count": 5,
   "metadata": {},
   "outputs": [
    {
     "name": "stdout",
     "output_type": "stream",
     "text": [
      "20 10\n"
     ]
    }
   ],
   "source": [
    "a = 10 \n",
    "b = 20\n",
    "\n",
    "a = a+b\n",
    "b = a-b\n",
    "a = a-b\n",
    "\n",
    "print(a,b)"
   ]
  },
  {
   "cell_type": "code",
   "execution_count": null,
   "metadata": {},
   "outputs": [],
   "source": []
  },
  {
   "cell_type": "code",
   "execution_count": null,
   "metadata": {},
   "outputs": [],
   "source": []
  }
 ],
 "metadata": {
  "kernelspec": {
   "display_name": "Python 3",
   "language": "python",
   "name": "python3"
  },
  "language_info": {
   "codemirror_mode": {
    "name": "ipython",
    "version": 3
   },
   "file_extension": ".py",
   "mimetype": "text/x-python",
   "name": "python",
   "nbconvert_exporter": "python",
   "pygments_lexer": "ipython3",
   "version": "3.7.4"
  }
 },
 "nbformat": 4,
 "nbformat_minor": 2
}
